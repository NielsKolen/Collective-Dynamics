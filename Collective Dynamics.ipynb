{
 "cells": [
  {
   "cell_type": "code",
   "execution_count": 5,
   "metadata": {
    "collapsed": true
   },
   "outputs": [],
   "source": [
    "%matplotlib inline\n",
    "import numpy as np\n",
    "import matplotlib.pyplot as plt\n",
    "from numpy import math"
   ]
  },
  {
   "cell_type": "code",
   "execution_count": 6,
   "metadata": {
    "collapsed": false
   },
   "outputs": [],
   "source": [
    "N = 100 # number of particles\n",
    "xwidth = 10  # width of 10 particles in the x-direction\n",
    "ywidth = N//xwidth  # width in the y-direction\n",
    "a_av = 1  # average particle radius\n",
    "\n",
    "k = 1  # repulsion coefficient\n",
    "chi = 1  # rescaled translational viscosity\n",
    "tau = 1  # characteristic time scale of repulsion\n",
    "zeta = tau*k\n",
    "\n",
    "labda_s = 0.04  # dimensionless parameter describing the strength of the self-propulsion\n",
    "labda_a = 0.1  # alignment parameter\n",
    "labda_n = 0.03  # noise parameter\n",
    "labda_Fin = 0.3  # \n",
    "labda_Tin = 3  # \n",
    "\n",
    "F_self = labda_s*k*a_av  # self-propulsion force\n",
    "F_in = labda_Fin*k*a_av  # inward boundary force\n",
    "T_in = labda_Tin*k*chi*zeta  # inward boundary torque\n",
    "\n",
    "\n",
    "xs = np.linspace(0, 2*(xwidth-1), xwidth)  # different initial x-positions\n",
    "xpos = np.zeros(N)  # array to hold all x-positions\n",
    "ys = np.linspace(0, 2*(ywidth-1), ywidth)  # different initial y-positions\n",
    "ypos = np.zeros(N)  # array to hold all y-positions\n",
    "a = np.zeros(N)  # array to hold all radii\n",
    "psi = np.zeros(N)  # array to hold all directions\n",
    "xi = np.zeros(N)  # array to hold all 'noise orientations'\n"
   ]
  },
  {
   "cell_type": "code",
   "execution_count": 7,
   "metadata": {
    "collapsed": false
   },
   "outputs": [],
   "source": [
    "# place the particles in a rectangular lattice and assign each particle a radius and initial direction\n",
    "\n",
    "for i in range(0, xwidth):\n",
    "    xpos[i::xwidth] = xs[i]\n",
    "\n",
    "for i in range(0, ywidth):\n",
    "    ypos[(xwidth*i):(i+1)*xwidth] = ys[i]\n",
    "\n",
    "for i in range(0,N):  \n",
    "    xpos[i] += np.random.uniform(-0.1, 0.1)  # giving the particles a small deviation from their original position\n",
    "    ypos[i] += np.random.uniform(-0.1, 0.1)\n",
    "    a[i] = np.random.normal(a_av, a_av/10) \n",
    "    psi[i] = np.pi/2 + np.random.uniform(-np.pi/2, np.pi/2)  # initially oriented along the y-axis (long edge for N > 100)\n"
   ]
  },
  {
   "cell_type": "code",
   "execution_count": 8,
   "metadata": {
    "collapsed": false
   },
   "outputs": [
    {
     "name": "stdout",
     "output_type": "stream",
     "text": [
      "[  0.   2.   4.   5.   7.   8.   9.  19.  20.  30.  39.  49.  50.  70.  80.\n",
      "  89.  90.  92.  95.  98.  99.]\n",
      "[ 4.73298001  3.16012343  3.15203537  3.24800987  3.22118272  3.19166348\n",
      "  4.59713226  3.24859253  3.17073277  3.1918034   3.23914772  3.14529814\n",
      "  3.14696714  3.21298575  3.1867282   3.2110837   4.6671793   3.21901062\n",
      "  3.22034471  3.19677134  4.69045174]\n",
      "[-1.76920738 -1.90054801 -4.17602362  1.30295732  2.69202647 -2.60663579\n",
      "  3.84667554  1.43957592  0.18995562  4.49794194  4.75827035 -1.57061479\n",
      "  3.83621208  1.53556563 -1.04118895 -4.65045414 -6.31654781  6.11222441\n",
      " -9.03925405 -2.93102696  0.28154944 -3.29089516  5.31894856 -0.93034986\n",
      "  2.08874874  0.08256925  4.48235894 -3.9519533   6.15658645  0.18577315\n",
      " -1.41362854  5.29382095 -4.83805617 -5.32882072  3.18069739  3.58002632\n",
      "  1.33766468 -3.37056312  0.99689056 -0.91284422 -2.83751945 -3.61597908\n",
      "  2.77796907  1.81650229 -7.57606325  6.29589397 -5.92684732 -3.33134667\n",
      "  2.98087931  2.83462676  7.50326356 -3.74185581 -4.7205295   6.50029136\n",
      "  3.95180616 -6.52143335  6.07373735 -3.85557144 -0.18988691 -2.81354206\n",
      " -8.17943107  6.40303325  3.64453294 -5.72917862 -5.31318072  7.55770783\n",
      " -3.98236085  2.20608134  0.61730953  1.77513184  2.64857331 -2.23167566\n",
      "  3.59110841 -2.02401149  4.79861073 -0.27384791 -1.70898458  0.89722125\n",
      "  3.03118433 -2.63846607  1.26487951  0.26019123  0.32969761  0.85839607\n",
      " -1.47696112 -5.65254504 -3.8669194   4.03694582  2.62178172 -3.53833003\n",
      "  0.64941818 -4.5033916   1.37561884 -0.81323528  4.40798986 -3.36041313\n",
      "  4.07781329  1.58227226 -6.85733953  4.75195088]\n"
     ]
    },
    {
     "data": {
      "image/png": "[encoded data removed]",
      "text/plain": [
       "<matplotlib.figure.Figure at 0x22a7fbcdb00>"
      ]
     },
     "metadata": {},
     "output_type": "display_data"
    }
   ],
   "source": [
    "boundary = []\n",
    "theta_out = []\n",
    "mismatch = []\n",
    "\n",
    "for i in range(0,N):\n",
    "    xi[i] = np.random.uniform(-1,1)\n",
    "    \n",
    "    xdif_nb = []\n",
    "    ydif_nb = []\n",
    "    dist_nb = []\n",
    "    radius = []\n",
    "    orientation = []\n",
    "    angles = []\n",
    "    overlap = []\n",
    "    \n",
    "    # check if the particles are neighbours\n",
    "    \n",
    "    for j in range(0,N):  \n",
    "        if i == j:\n",
    "            continue\n",
    "        xdif = xpos[i] - xpos[j]\n",
    "        ydif = ypos[i] - ypos[j]\n",
    "        dist = np.sqrt(xdif**2 + ydif**2)\n",
    "        if dist < 2.7*a_av:\n",
    "            xdif_nb = np.append(xdif_nb, xdif)\n",
    "            ydif_nb = np.append(ydif_nb, ydif)\n",
    "            dist_nb = np.append(dist_nb, dist)\n",
    "            radius = np.append(radius, a[j])\n",
    "            orientation = np.append(orientation, psi[j])\n",
    "    \n",
    "    # calculate the mismatch between neighbours for each particle\n",
    "    \n",
    "    delta_psi = 0\n",
    "    for k in range(0, len(xdif_nb)):\n",
    "        delta_psi += (orientation[k] - psi[i])\n",
    "        \n",
    "    mismatch = np.append(mismatch, delta_psi)\n",
    "    \n",
    "    # calculate the angle between neighbours in a clockwise direction\n",
    "    \n",
    "    for k in range(0, len(xdif_nb)):\n",
    "        if ydif_nb[k] < 0:\n",
    "            angle = math.acos(xdif_nb[k]/dist_nb[k])\n",
    "        if ydif_nb[k] > 0:\n",
    "            angle = np.pi + math.acos(-xdif_nb[k]/dist_nb[k])\n",
    "        \n",
    "        angles = np.append(angles, angle)\n",
    "        \n",
    "    # calculate the overlap between neighbours for each particle\n",
    "    \n",
    "    for k in range(0, len(xdif_nb)):\n",
    "        if (a[i] + radius[k]) > dist_nb[k]:\n",
    "            d = (a[i]**2 * math.acos((dist_nb[k]**2 + a[i]**2 - radius[k]**2) / (2*dist_nb[k]*a[i]))\n",
    "                 + radius[k]**2 * math.acos((dist_nb[k]**2 - a[i]**2 + radius[k]**2) / (2*dist_nb[k]*radius[k]))\n",
    "                 - 0.5*np.sqrt((-dist_nb[k] + a[i] + radius[k])*(dist_nb[k] + a[i] - radius[k])\n",
    "                 *(dist_nb[k] - a[i] + radius[k])*(dist_nb[k] + a[i] + radius[k])))\n",
    "        else:\n",
    "            d = 0\n",
    "    \n",
    "        overlap = np.append(overlap, d)\n",
    "        repulsion_angle = angles+np.pi\n",
    "    \n",
    "    sort_angles = np.sort(angles)  # sort the angles in order from smallest to largest\n",
    "\n",
    "    # check wether or not one of the angles is larger than pi.\n",
    "    # if so, the particle is at the boundary\n",
    "    \n",
    "    if (2*np.pi - (sort_angles[len(sort_angles)-1] - sort_angles[0])) > np.pi:\n",
    "        boundary = np.append(boundary,i)\n",
    "        theta_out = np.append(theta_out, (2*np.pi - (sort_angles[len(sort_angles)-1] - sort_angles[0])))\n",
    "    else:\n",
    "        for k in range(0, (len(sort_angles)-1)):\n",
    "            if (sort_angles[(k+1)] - sort_angles[k]) > np.pi:\n",
    "                boundary = np.append(boundary,i)  \n",
    "                theta_out = np.append(theta_out, (sort_angles[(k+1)] - sort_angles[k]))\n",
    "\n",
    "print(boundary)\n",
    "print(theta_out)\n",
    "print(mismatch)\n",
    "        \n",
    "alpha = a[0]/a_av  # normalized radii\n",
    "area = np.pi*a[0]**2\n",
    "colors = np.random.rand(N)\n",
    "\n",
    "plt.scatter(xpos, ypos, s=10*area, c=colors, alpha=0.5)\n",
    "plt.show()\n"
   ]
  },
  {
   "cell_type": "code",
   "execution_count": null,
   "metadata": {
    "collapsed": false
   },
   "outputs": [],
   "source": []
  },
  {
   "cell_type": "code",
   "execution_count": null,
   "metadata": {
    "collapsed": true
   },
   "outputs": [],
   "source": []
  }
 ],
 "metadata": {
  "kernelspec": {
   "display_name": "Python 3",
   "language": "python",
   "name": "python3"
  },
  "language_info": {
   "codemirror_mode": {
    "name": "ipython",
    "version": 3
   },
   "file_extension": ".py",
   "mimetype": "text/x-python",
   "name": "python",
   "nbconvert_exporter": "python",
   "pygments_lexer": "ipython3",
   "version": "3.5.1"
  }
 },
 "nbformat": 4,
 "nbformat_minor": 0
}
