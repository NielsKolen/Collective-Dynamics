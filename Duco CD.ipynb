{
 "cells": [
  {
   "cell_type": "code",
   "execution_count": 14,
   "metadata": {
    "collapsed": true
   },
   "outputs": [],
   "source": [
    "%matplotlib inline\n",
    "import numpy as np\n",
    "import matplotlib.pyplot as plt\n",
    "from IPython import display"
   ]
  },
  {
   "cell_type": "code",
   "execution_count": 50,
   "metadata": {
    "collapsed": false,
    "scrolled": false
   },
   "outputs": [
    {
     "data": {
      "image/png": "[encoded data removed]",
      "text/plain": [
       "<matplotlib.figure.Figure at 0x29448f177f0>"
      ]
     },
     "metadata": {},
     "output_type": "display_data"
    },
    {
     "data": {
      "image/png": "[encoded data removed]",
      "text/plain": [
       "<matplotlib.figure.Figure at 0x29448f177f0>"
      ]
     },
     "metadata": {},
     "output_type": "display_data"
    }
   ],
   "source": [
    "#Parameters\n",
    "\n",
    "time = 0\n",
    "timestep = 0.2\n",
    "N = 100 #amount of particles\n",
    "width = 10 #width of initial lattice\n",
    "aR = 1 #average radius\n",
    "r = aR*2.5 #lattice space\n",
    "krep = 1 #repulsion coefficient\n",
    "dzeta = 1\n",
    "tau = dzeta / krep #characteristic timestep\n",
    "chi = 1\n",
    "\n",
    "lambdaFin = 0.3\n",
    "Fin = lambdaFin * krep * aR\n",
    "lambdaS = 1\n",
    "Fself = lambdaS * krep * aR\n",
    "Frepx = np.zeros(N)\n",
    "Frepy = np.zeros(N)\n",
    "\n",
    "lambdaTin = 3\n",
    "Tin = lambdaTin * krep * chi / dzeta\n",
    "lambdan = 0.03\n",
    "Tnoise = (lambdan * 2 * krep * chi**2 / (dzeta * timestep))**0.5\n",
    "lambdaa = 0.1\n",
    "Talign = lambdaa * krep * chi / dzeta\n",
    "\n",
    "#intialise lattice and particle properties\n",
    "\n",
    "radius = np.random.normal(aR,aR/10,N) #radius matrix Nx1\n",
    "normrad = radius/aR\n",
    "area = np.pi * radius**2\n",
    "initial_direction = [] #direction matrix Nx1\n",
    "velocity = np.zeros(N)\n",
    "angular_velocity = np.zeros(N)\n",
    "\n",
    "pos = np.zeros((N,2)) #position matrix Nx2\n",
    "x = []\n",
    "y = []\n",
    "ystep = np.linspace(0,N/width-1,N/width)*r\n",
    "\n",
    "for i in ystep:\n",
    "    x = np.append(x,np.linspace(0,width-1,width)*r)\n",
    "    y = np.append(y,np.ones(width)*i)\n",
    "\n",
    "for i in range(N):\n",
    "        pos[i,0] = x[i] + np.random.uniform(-r/10,r/10)\n",
    "        pos[i,1] = y[i] + np.random.uniform(-r/10,r/10)\n",
    "        initial_direction = np.append(initial_direction,np.random.uniform(-np.pi/4,np.pi/4))\n",
    "\n",
    "#plt.scatter(pos[:,0],pos[:,1],s=100*area,alpha=0.5)\n",
    "#plt.show()\n",
    "\n",
    "direction = initial_direction\n",
    "\n",
    "fig = plt.figure()\n",
    "ax = fig.add_subplot(111)\n",
    "\n",
    "while time < 10:\n",
    "    \n",
    "    ax.cla()\n",
    "    ax.scatter(pos[:,0], pos[:,1])\n",
    "    ax.set_xlim((-40, 60))\n",
    "    ax.set_ylim((-40, 60))\n",
    "    display.clear_output(wait=True)\n",
    "    display.display(fig)\n",
    "    #time.sleep(0.05)\n",
    "    \n",
    "    #Determine neighbours\n",
    "    boundary = np.zeros(N)\n",
    "    thetaout = np.zeros(N)\n",
    "    thetadiff = np.zeros(N)\n",
    "    directiondiff = []\n",
    "\n",
    "    for i in range(N):\n",
    "        angles = []\n",
    "        neighbours = []\n",
    "        overlap = []\n",
    "        anglediff = []\n",
    "\n",
    "        for j in range(N):\n",
    "            if i == j:\n",
    "                continue\n",
    "            d = ((pos[i,0]-pos[j,0])**2 + (pos[i,1]-pos[j,1])**2)**0.5\n",
    "            if d < 2.7*aR:\n",
    "                neighbours = np.append(neighbours,j)\n",
    "                angles = np.append(angles,np.arctan2(pos[j,0]-pos[i,0], pos[j,1]-pos[i,1]))\n",
    "\n",
    "                anglediff = np.append(anglediff,direction[i]-direction[j])\n",
    "\n",
    "                if d < (radius[i] + radius[j]):\n",
    "                    Aij = (radius[j]**2 * np.arccos((d**2 + radius[j]**2 - radius[i]**2)/(2*d*radius[j])) \n",
    "                        + radius[i]**2 * np.arccos((d**2 + radius[i]**2 - radius[j]**2)/(2*d*radius[i])) \n",
    "                        - 0.5*((-d+radius[i]+radius[j])*(d-radius[i]+radius[j])*(d+radius[i]-radius[j])*(d+radius[i]+radius[j]))**0.5)\n",
    "                    overlap = np.append(overlap,Aij)\n",
    "                else:\n",
    "                    overlap = np.append(overlap,0)\n",
    "\n",
    "        if len(neighbours) < 3:\n",
    "            boundary = np.append(boundary,1.)\n",
    "            for k in range(len(neighbours)):\n",
    "                Frepx[i] += krep * overlap[k] * np.cos(angles[k])\n",
    "                Frepy[i] += krep * overlap[k] * np.sin(angles[k])\n",
    "        else:\n",
    "            angles = np.sort(angles)\n",
    "            for k in range(len(neighbours)):\n",
    "                angle = (angles[(k+1)%(len(neighbours))] - angles[k])%(2*np.pi)\n",
    "                if angle > np.pi:\n",
    "                    boundary[i] = 1.\n",
    "                    thetaout[i] = angle\n",
    "                    thetadiff[i] = (angles[k] - ((2*np.pi - angle)/2)) - direction[i]\n",
    "\n",
    "                Frepx[i] += krep * overlap[k] * np.cos(angles[k])\n",
    "                Frepy[i] += krep * overlap[k] * np.sin(angles[k])\n",
    "\n",
    "        directiondiff = np.append(directiondiff,np.sum(anglediff))\n",
    "\n",
    "    #Force and torque\n",
    "\n",
    "    for i in range(N):    \n",
    "        Fx = np.sin(direction[i])*(Fself + boundary[i]*Fin*(thetaout[i]-np.pi)) - Frepx[i]\n",
    "        Fy = np.cos(direction[i])*(Fself + boundary[i]*Fin*(thetaout[i]-np.pi)) - Frepy[i]\n",
    "        T = Tin*thetadiff[i]*boundary[i] + Tnoise*np.random.uniform(-1,1) + Talign*directiondiff\n",
    "\n",
    "        vx = Fx/(normrad[i] * dzeta)\n",
    "        vy = Fy/(normrad[i] * dzeta)\n",
    "        omega = T/(normrad[i]**2 * chi)\n",
    "\n",
    "        pos[i,0] += vx * timestep\n",
    "        pos[i,1] += vy * timestep\n",
    "        direction += omega * timestep\n",
    "        \n",
    "        #print(vx)\n",
    "    \n",
    "    time += timestep\n",
    "    #print(normrad)"
   ]
  },
  {
   "cell_type": "code",
   "execution_count": null,
   "metadata": {
    "collapsed": true
   },
   "outputs": [],
   "source": []
  },
  {
   "cell_type": "code",
   "execution_count": null,
   "metadata": {
    "collapsed": true
   },
   "outputs": [],
   "source": []
  }
 ],
 "metadata": {
  "kernelspec": {
   "display_name": "Python 3",
   "language": "python",
   "name": "python3"
  },
  "language_info": {
   "codemirror_mode": {
    "name": "ipython",
    "version": 3
   },
   "file_extension": ".py",
   "mimetype": "text/x-python",
   "name": "python",
   "nbconvert_exporter": "python",
   "pygments_lexer": "ipython3",
   "version": "3.5.1"
  }
 },
 "nbformat": 4,
 "nbformat_minor": 0
}
